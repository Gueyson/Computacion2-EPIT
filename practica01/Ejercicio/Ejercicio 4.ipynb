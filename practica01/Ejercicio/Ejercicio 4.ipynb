{
 "cells": [
  {
   "cell_type": "markdown",
   "id": "29cb8a38",
   "metadata": {},
   "source": [
    "<center> <h2>Ejercicio 04</h2> </center> "
   ]
  },
  {
   "cell_type": "markdown",
   "id": "a0669254",
   "metadata": {},
   "source": [
    "De la siguiente Matriz"
   ]
  },
  {
   "cell_type": "markdown",
   "id": "2ebc1886",
   "metadata": {},
   "source": [
    "<img src=\"https://user-images.githubusercontent.com/19308295/115969506-dbbc4b00-a502-11eb-9c76-c9da265c5366.png\"\n",
    "    style=\"width:400px\"></img>"
   ]
  },
  {
   "cell_type": "markdown",
   "id": "f7439a2b",
   "metadata": {},
   "source": [
    "* Luego invertir lo valores de 9 y 1 de la Matriz anterior"
   ]
  },
  {
   "cell_type": "code",
   "execution_count": 2,
   "id": "9724facd",
   "metadata": {},
   "outputs": [],
   "source": [
    "import numpy as np"
   ]
  },
  {
   "cell_type": "code",
   "execution_count": 13,
   "id": "c2e79775",
   "metadata": {},
   "outputs": [
    {
     "name": "stdout",
     "output_type": "stream",
     "text": [
      "[[1 1 1 1 1]\n",
      " [1 0 0 0 1]\n",
      " [1 0 9 0 1]\n",
      " [1 0 0 0 1]\n",
      " [1 1 1 1 1]]\n",
      "[[9 9 9 9 9]\n",
      " [9 0 0 0 9]\n",
      " [9 0 1 0 9]\n",
      " [9 0 0 0 9]\n",
      " [9 9 9 9 9]]\n"
     ]
    }
   ],
   "source": [
    "a=np.array([(1,1,1,1,1),(1,0,0,0,1),(1,0,9,0,1),(1,0,0,0,1),(1,1,1,1,1)])\n",
    "print(a)\n",
    "\n",
    "b=9*a\n",
    "b[2,2]=1\n",
    "print(b)"
   ]
  },
  {
   "cell_type": "code",
   "execution_count": null,
   "id": "0584ddfa",
   "metadata": {},
   "outputs": [],
   "source": []
  },
  {
   "cell_type": "code",
   "execution_count": null,
   "id": "17a8abcf",
   "metadata": {},
   "outputs": [],
   "source": []
  },
  {
   "cell_type": "code",
   "execution_count": null,
   "id": "51f3d15c",
   "metadata": {},
   "outputs": [],
   "source": []
  },
  {
   "cell_type": "code",
   "execution_count": null,
   "id": "e77928bf",
   "metadata": {},
   "outputs": [],
   "source": []
  },
  {
   "cell_type": "code",
   "execution_count": null,
   "id": "434451e3",
   "metadata": {},
   "outputs": [],
   "source": []
  },
  {
   "cell_type": "code",
   "execution_count": null,
   "id": "04f85372",
   "metadata": {},
   "outputs": [],
   "source": []
  },
  {
   "cell_type": "code",
   "execution_count": null,
   "id": "5ae749ab",
   "metadata": {},
   "outputs": [],
   "source": []
  },
  {
   "cell_type": "code",
   "execution_count": null,
   "id": "702f5eb2",
   "metadata": {},
   "outputs": [],
   "source": []
  },
  {
   "cell_type": "code",
   "execution_count": null,
   "id": "7b708fb1",
   "metadata": {},
   "outputs": [],
   "source": []
  },
  {
   "cell_type": "code",
   "execution_count": null,
   "id": "318154d8",
   "metadata": {},
   "outputs": [],
   "source": []
  },
  {
   "cell_type": "code",
   "execution_count": null,
   "id": "90da5624",
   "metadata": {},
   "outputs": [],
   "source": []
  }
 ],
 "metadata": {
  "kernelspec": {
   "display_name": "Python 3 (ipykernel)",
   "language": "python",
   "name": "python3"
  },
  "language_info": {
   "codemirror_mode": {
    "name": "ipython",
    "version": 3
   },
   "file_extension": ".py",
   "mimetype": "text/x-python",
   "name": "python",
   "nbconvert_exporter": "python",
   "pygments_lexer": "ipython3",
   "version": "3.8.16"
  }
 },
 "nbformat": 4,
 "nbformat_minor": 5
}
